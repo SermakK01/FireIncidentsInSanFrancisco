{
 "cells": [
  {
   "cell_type": "markdown",
   "id": "ebe170c0-30af-406b-86f8-2392b4f33af4",
   "metadata": {},
   "source": [
    "# Machine learning predictions"
   ]
  },
  {
   "cell_type": "code",
   "execution_count": 1,
   "id": "c9ba0fcf-a3d3-4f15-8ab5-b548bca4f6d1",
   "metadata": {},
   "outputs": [
    {
     "name": "stderr",
     "output_type": "stream",
     "text": [
      "C:\\Users\\rafal\\AppData\\Local\\Temp/ipykernel_11672/3154285212.py:3: DtypeWarning: Columns (14) have mixed types. Specify dtype option on import or set low_memory=False.\n",
      "  df = pd.read_csv('data_connected.csv')\n"
     ]
    }
   ],
   "source": [
    "import pandas as pd\n",
    "\n",
    "df = pd.read_csv('data_connected.csv')"
   ]
  },
  {
   "cell_type": "markdown",
   "id": "0cc67185-58a5-4d9c-b59a-3ff164d67e43",
   "metadata": {},
   "source": [
    "## Extraxting day of week number"
   ]
  },
  {
   "cell_type": "code",
   "execution_count": 2,
   "id": "57cea41c-338a-4f30-8467-405e637e433d",
   "metadata": {},
   "outputs": [],
   "source": [
    "from datetime import datetime, date\n",
    "day_of_week = []\n",
    "for i in df[\"Incident Date\"]:\n",
    "    day_of_week.append(pd.to_datetime(i).day_of_week)\n",
    "\n",
    "df[\"day_of_week\"] = day_of_week"
   ]
  },
  {
   "cell_type": "markdown",
   "id": "82fbf1d1-8e15-4bad-bbab-9483784f92ce",
   "metadata": {},
   "source": [
    "## Encoding highway (road_type)"
   ]
  },
  {
   "cell_type": "code",
   "execution_count": 3,
   "id": "6e97efbc-b7ca-4421-a4aa-7e40f5bdf740",
   "metadata": {},
   "outputs": [],
   "source": [
    "from sklearn.preprocessing import OrdinalEncoder\n",
    "\n",
    "enc = OrdinalEncoder()\n",
    "enc.fit(df[[\"highway\"]])\n",
    "df[[\"highway\"]] = enc.transform(df[[\"highway\"]])"
   ]
  },
  {
   "cell_type": "markdown",
   "id": "ff14cf95-8609-4906-b027-3fe80c6cdf3f",
   "metadata": {},
   "source": [
    "## Extractind hour"
   ]
  },
  {
   "cell_type": "code",
   "execution_count": 4,
   "id": "36d5ece9-80b9-45f8-9fd8-2ec896af458d",
   "metadata": {},
   "outputs": [],
   "source": [
    "hour = []\n",
    "for i in df[\"Alarm DtTm\"]:\n",
    "    hour.append(pd.to_datetime(i).hour)\n",
    "    \n",
    "df[\"hour\"] = hour"
   ]
  },
  {
   "cell_type": "code",
   "execution_count": 5,
   "id": "2f968573-b1bd-47eb-9447-447e4b587e88",
   "metadata": {},
   "outputs": [
    {
     "data": {
      "text/html": [
       "<div>\n",
       "<style scoped>\n",
       "    .dataframe tbody tr th:only-of-type {\n",
       "        vertical-align: middle;\n",
       "    }\n",
       "\n",
       "    .dataframe tbody tr th {\n",
       "        vertical-align: top;\n",
       "    }\n",
       "\n",
       "    .dataframe thead th {\n",
       "        text-align: right;\n",
       "    }\n",
       "</style>\n",
       "<table border=\"1\" class=\"dataframe\">\n",
       "  <thead>\n",
       "    <tr style=\"text-align: right;\">\n",
       "      <th></th>\n",
       "      <th>osmid</th>\n",
       "      <th>name</th>\n",
       "      <th>geometry</th>\n",
       "      <th>highway</th>\n",
       "      <th>index_right</th>\n",
       "      <th>field_1</th>\n",
       "      <th>Incident Number</th>\n",
       "      <th>Exposure Number</th>\n",
       "      <th>ID</th>\n",
       "      <th>Address</th>\n",
       "      <th>...</th>\n",
       "      <th>Estimated Property Loss</th>\n",
       "      <th>Estimated Contents Loss</th>\n",
       "      <th>Civilian Fatalities</th>\n",
       "      <th>Civilian Injuries</th>\n",
       "      <th>Number of Alarms</th>\n",
       "      <th>Supervisor District</th>\n",
       "      <th>neighborhood_district</th>\n",
       "      <th>point</th>\n",
       "      <th>day_of_week</th>\n",
       "      <th>hour</th>\n",
       "    </tr>\n",
       "  </thead>\n",
       "  <tbody>\n",
       "    <tr>\n",
       "      <th>0</th>\n",
       "      <td>5004035</td>\n",
       "      <td>Macondray Lane</td>\n",
       "      <td>LINESTRING (4234824.324376223 15125003.9341347...</td>\n",
       "      <td>5.0</td>\n",
       "      <td>524687</td>\n",
       "      <td>527430</td>\n",
       "      <td>20066314</td>\n",
       "      <td>0</td>\n",
       "      <td>200663140</td>\n",
       "      <td>MACONDRAY LANE</td>\n",
       "      <td>...</td>\n",
       "      <td>6782.093746</td>\n",
       "      <td>2267.703959</td>\n",
       "      <td>0</td>\n",
       "      <td>0</td>\n",
       "      <td>1</td>\n",
       "      <td>6.142039</td>\n",
       "      <td>Russian Hill</td>\n",
       "      <td>POINT (-122.417315 37.798941)</td>\n",
       "      <td>6</td>\n",
       "      <td>18</td>\n",
       "    </tr>\n",
       "    <tr>\n",
       "      <th>1</th>\n",
       "      <td>5071582</td>\n",
       "      <td>James Lick Freeway</td>\n",
       "      <td>LINESTRING (4228939.307599111 15133689.2342982...</td>\n",
       "      <td>1.0</td>\n",
       "      <td>98619</td>\n",
       "      <td>98622</td>\n",
       "      <td>6036473</td>\n",
       "      <td>0</td>\n",
       "      <td>60364730</td>\n",
       "      <td>101sb C Chavez</td>\n",
       "      <td>...</td>\n",
       "      <td>0.000000</td>\n",
       "      <td>0.000000</td>\n",
       "      <td>0</td>\n",
       "      <td>0</td>\n",
       "      <td>1</td>\n",
       "      <td>10.000000</td>\n",
       "      <td>Visitacion Valley</td>\n",
       "      <td>POINT (-122.398673 37.71694)</td>\n",
       "      <td>4</td>\n",
       "      <td>6</td>\n",
       "    </tr>\n",
       "    <tr>\n",
       "      <th>2</th>\n",
       "      <td>5071582</td>\n",
       "      <td>James Lick Freeway</td>\n",
       "      <td>LINESTRING (4228939.307599111 15133689.2342982...</td>\n",
       "      <td>1.0</td>\n",
       "      <td>408379</td>\n",
       "      <td>410313</td>\n",
       "      <td>16089919</td>\n",
       "      <td>0</td>\n",
       "      <td>160899190</td>\n",
       "      <td>1 101NB BAYSHORE BL ON</td>\n",
       "      <td>...</td>\n",
       "      <td>6782.093746</td>\n",
       "      <td>2267.703959</td>\n",
       "      <td>0</td>\n",
       "      <td>0</td>\n",
       "      <td>1</td>\n",
       "      <td>10.000000</td>\n",
       "      <td>Visitacion Valley</td>\n",
       "      <td>POINT (-122.398673 37.71694)</td>\n",
       "      <td>0</td>\n",
       "      <td>13</td>\n",
       "    </tr>\n",
       "    <tr>\n",
       "      <th>3</th>\n",
       "      <td>5071582</td>\n",
       "      <td>James Lick Freeway</td>\n",
       "      <td>LINESTRING (4228939.307599111 15133689.2342982...</td>\n",
       "      <td>1.0</td>\n",
       "      <td>180410</td>\n",
       "      <td>180460</td>\n",
       "      <td>9015577</td>\n",
       "      <td>0</td>\n",
       "      <td>90155770</td>\n",
       "      <td>1 101sb C Chavez On</td>\n",
       "      <td>...</td>\n",
       "      <td>6782.093746</td>\n",
       "      <td>2267.703959</td>\n",
       "      <td>0</td>\n",
       "      <td>0</td>\n",
       "      <td>1</td>\n",
       "      <td>10.000000</td>\n",
       "      <td>Visitacion Valley</td>\n",
       "      <td>POINT (-122.398673 37.71694)</td>\n",
       "      <td>6</td>\n",
       "      <td>3</td>\n",
       "    </tr>\n",
       "    <tr>\n",
       "      <th>4</th>\n",
       "      <td>5071582</td>\n",
       "      <td>James Lick Freeway</td>\n",
       "      <td>LINESTRING (4228939.307599111 15133689.2342982...</td>\n",
       "      <td>1.0</td>\n",
       "      <td>531589</td>\n",
       "      <td>534370</td>\n",
       "      <td>20074015</td>\n",
       "      <td>0</td>\n",
       "      <td>200740150</td>\n",
       "      <td>1 101NB</td>\n",
       "      <td>...</td>\n",
       "      <td>6782.093746</td>\n",
       "      <td>2267.703959</td>\n",
       "      <td>0</td>\n",
       "      <td>0</td>\n",
       "      <td>1</td>\n",
       "      <td>10.000000</td>\n",
       "      <td>Visitacion Valley</td>\n",
       "      <td>POINT (-122.398673 37.71694)</td>\n",
       "      <td>5</td>\n",
       "      <td>12</td>\n",
       "    </tr>\n",
       "    <tr>\n",
       "      <th>...</th>\n",
       "      <td>...</td>\n",
       "      <td>...</td>\n",
       "      <td>...</td>\n",
       "      <td>...</td>\n",
       "      <td>...</td>\n",
       "      <td>...</td>\n",
       "      <td>...</td>\n",
       "      <td>...</td>\n",
       "      <td>...</td>\n",
       "      <td>...</td>\n",
       "      <td>...</td>\n",
       "      <td>...</td>\n",
       "      <td>...</td>\n",
       "      <td>...</td>\n",
       "      <td>...</td>\n",
       "      <td>...</td>\n",
       "      <td>...</td>\n",
       "      <td>...</td>\n",
       "      <td>...</td>\n",
       "      <td>...</td>\n",
       "      <td>...</td>\n",
       "    </tr>\n",
       "    <tr>\n",
       "      <th>477881</th>\n",
       "      <td>1065847913</td>\n",
       "      <td>NaN</td>\n",
       "      <td>LINESTRING (4229559.309630014 15132523.5828647...</td>\n",
       "      <td>8.0</td>\n",
       "      <td>13338</td>\n",
       "      <td>13338</td>\n",
       "      <td>3037767</td>\n",
       "      <td>0</td>\n",
       "      <td>30377670</td>\n",
       "      <td>2660 Newhall St.</td>\n",
       "      <td>...</td>\n",
       "      <td>0.000000</td>\n",
       "      <td>0.000000</td>\n",
       "      <td>0</td>\n",
       "      <td>0</td>\n",
       "      <td>1</td>\n",
       "      <td>10.000000</td>\n",
       "      <td>Bayview Hunters Point</td>\n",
       "      <td>POINT (-122.39963625 37.72721219)</td>\n",
       "      <td>0</td>\n",
       "      <td>11</td>\n",
       "    </tr>\n",
       "    <tr>\n",
       "      <th>477882</th>\n",
       "      <td>1065847913</td>\n",
       "      <td>NaN</td>\n",
       "      <td>LINESTRING (4229559.309630014 15132523.5828647...</td>\n",
       "      <td>8.0</td>\n",
       "      <td>46122</td>\n",
       "      <td>46122</td>\n",
       "      <td>4045888</td>\n",
       "      <td>0</td>\n",
       "      <td>40458880</td>\n",
       "      <td>2660 Newhall St.</td>\n",
       "      <td>...</td>\n",
       "      <td>0.000000</td>\n",
       "      <td>0.000000</td>\n",
       "      <td>0</td>\n",
       "      <td>0</td>\n",
       "      <td>1</td>\n",
       "      <td>10.000000</td>\n",
       "      <td>Bayview Hunters Point</td>\n",
       "      <td>POINT (-122.39963625 37.72721219)</td>\n",
       "      <td>4</td>\n",
       "      <td>20</td>\n",
       "    </tr>\n",
       "    <tr>\n",
       "      <th>477883</th>\n",
       "      <td>1065847913</td>\n",
       "      <td>NaN</td>\n",
       "      <td>LINESTRING (4229559.309630014 15132523.5828647...</td>\n",
       "      <td>8.0</td>\n",
       "      <td>23192</td>\n",
       "      <td>23192</td>\n",
       "      <td>3070654</td>\n",
       "      <td>0</td>\n",
       "      <td>30706540</td>\n",
       "      <td>2660 Newhall St.</td>\n",
       "      <td>...</td>\n",
       "      <td>0.000000</td>\n",
       "      <td>0.000000</td>\n",
       "      <td>0</td>\n",
       "      <td>0</td>\n",
       "      <td>1</td>\n",
       "      <td>10.000000</td>\n",
       "      <td>Bayview Hunters Point</td>\n",
       "      <td>POINT (-122.39963625 37.72721219)</td>\n",
       "      <td>3</td>\n",
       "      <td>16</td>\n",
       "    </tr>\n",
       "    <tr>\n",
       "      <th>477884</th>\n",
       "      <td>1065847913</td>\n",
       "      <td>NaN</td>\n",
       "      <td>LINESTRING (4229559.309630014 15132523.5828647...</td>\n",
       "      <td>8.0</td>\n",
       "      <td>54709</td>\n",
       "      <td>54709</td>\n",
       "      <td>4069400</td>\n",
       "      <td>0</td>\n",
       "      <td>40694000</td>\n",
       "      <td>2660 Newhall St.</td>\n",
       "      <td>...</td>\n",
       "      <td>0.000000</td>\n",
       "      <td>0.000000</td>\n",
       "      <td>0</td>\n",
       "      <td>0</td>\n",
       "      <td>1</td>\n",
       "      <td>10.000000</td>\n",
       "      <td>Bayview Hunters Point</td>\n",
       "      <td>POINT (-122.39963625 37.72721219)</td>\n",
       "      <td>0</td>\n",
       "      <td>20</td>\n",
       "    </tr>\n",
       "    <tr>\n",
       "      <th>477885</th>\n",
       "      <td>1067214503</td>\n",
       "      <td>Palo Alto Avenue</td>\n",
       "      <td>LINESTRING (4235532.465731034 15131161.8027520...</td>\n",
       "      <td>5.0</td>\n",
       "      <td>501891</td>\n",
       "      <td>504566</td>\n",
       "      <td>19078442</td>\n",
       "      <td>0</td>\n",
       "      <td>190784420</td>\n",
       "      <td>20 PALO ALTO AVENUE</td>\n",
       "      <td>...</td>\n",
       "      <td>6782.093746</td>\n",
       "      <td>2267.703959</td>\n",
       "      <td>0</td>\n",
       "      <td>0</td>\n",
       "      <td>1</td>\n",
       "      <td>6.142039</td>\n",
       "      <td>Twin Peaks</td>\n",
       "      <td>POINT (-122.44876 37.756902)</td>\n",
       "      <td>2</td>\n",
       "      <td>2</td>\n",
       "    </tr>\n",
       "  </tbody>\n",
       "</table>\n",
       "<p>477886 rows × 25 columns</p>\n",
       "</div>"
      ],
      "text/plain": [
       "             osmid                name  \\\n",
       "0          5004035      Macondray Lane   \n",
       "1          5071582  James Lick Freeway   \n",
       "2          5071582  James Lick Freeway   \n",
       "3          5071582  James Lick Freeway   \n",
       "4          5071582  James Lick Freeway   \n",
       "...            ...                 ...   \n",
       "477881  1065847913                 NaN   \n",
       "477882  1065847913                 NaN   \n",
       "477883  1065847913                 NaN   \n",
       "477884  1065847913                 NaN   \n",
       "477885  1067214503    Palo Alto Avenue   \n",
       "\n",
       "                                                 geometry  highway  \\\n",
       "0       LINESTRING (4234824.324376223 15125003.9341347...      5.0   \n",
       "1       LINESTRING (4228939.307599111 15133689.2342982...      1.0   \n",
       "2       LINESTRING (4228939.307599111 15133689.2342982...      1.0   \n",
       "3       LINESTRING (4228939.307599111 15133689.2342982...      1.0   \n",
       "4       LINESTRING (4228939.307599111 15133689.2342982...      1.0   \n",
       "...                                                   ...      ...   \n",
       "477881  LINESTRING (4229559.309630014 15132523.5828647...      8.0   \n",
       "477882  LINESTRING (4229559.309630014 15132523.5828647...      8.0   \n",
       "477883  LINESTRING (4229559.309630014 15132523.5828647...      8.0   \n",
       "477884  LINESTRING (4229559.309630014 15132523.5828647...      8.0   \n",
       "477885  LINESTRING (4235532.465731034 15131161.8027520...      5.0   \n",
       "\n",
       "        index_right  field_1  Incident Number  Exposure Number         ID  \\\n",
       "0            524687   527430         20066314                0  200663140   \n",
       "1             98619    98622          6036473                0   60364730   \n",
       "2            408379   410313         16089919                0  160899190   \n",
       "3            180410   180460          9015577                0   90155770   \n",
       "4            531589   534370         20074015                0  200740150   \n",
       "...             ...      ...              ...              ...        ...   \n",
       "477881        13338    13338          3037767                0   30377670   \n",
       "477882        46122    46122          4045888                0   40458880   \n",
       "477883        23192    23192          3070654                0   30706540   \n",
       "477884        54709    54709          4069400                0   40694000   \n",
       "477885       501891   504566         19078442                0  190784420   \n",
       "\n",
       "                       Address  ... Estimated Property Loss  \\\n",
       "0               MACONDRAY LANE  ...             6782.093746   \n",
       "1               101sb C Chavez  ...                0.000000   \n",
       "2       1 101NB BAYSHORE BL ON  ...             6782.093746   \n",
       "3          1 101sb C Chavez On  ...             6782.093746   \n",
       "4                      1 101NB  ...             6782.093746   \n",
       "...                        ...  ...                     ...   \n",
       "477881        2660 Newhall St.  ...                0.000000   \n",
       "477882        2660 Newhall St.  ...                0.000000   \n",
       "477883        2660 Newhall St.  ...                0.000000   \n",
       "477884        2660 Newhall St.  ...                0.000000   \n",
       "477885     20 PALO ALTO AVENUE  ...             6782.093746   \n",
       "\n",
       "       Estimated Contents Loss Civilian Fatalities Civilian Injuries  \\\n",
       "0                  2267.703959                   0                 0   \n",
       "1                     0.000000                   0                 0   \n",
       "2                  2267.703959                   0                 0   \n",
       "3                  2267.703959                   0                 0   \n",
       "4                  2267.703959                   0                 0   \n",
       "...                        ...                 ...               ...   \n",
       "477881                0.000000                   0                 0   \n",
       "477882                0.000000                   0                 0   \n",
       "477883                0.000000                   0                 0   \n",
       "477884                0.000000                   0                 0   \n",
       "477885             2267.703959                   0                 0   \n",
       "\n",
       "       Number of Alarms  Supervisor District  neighborhood_district  \\\n",
       "0                     1             6.142039           Russian Hill   \n",
       "1                     1            10.000000      Visitacion Valley   \n",
       "2                     1            10.000000      Visitacion Valley   \n",
       "3                     1            10.000000      Visitacion Valley   \n",
       "4                     1            10.000000      Visitacion Valley   \n",
       "...                 ...                  ...                    ...   \n",
       "477881                1            10.000000  Bayview Hunters Point   \n",
       "477882                1            10.000000  Bayview Hunters Point   \n",
       "477883                1            10.000000  Bayview Hunters Point   \n",
       "477884                1            10.000000  Bayview Hunters Point   \n",
       "477885                1             6.142039             Twin Peaks   \n",
       "\n",
       "                                    point  day_of_week  hour  \n",
       "0           POINT (-122.417315 37.798941)            6    18  \n",
       "1            POINT (-122.398673 37.71694)            4     6  \n",
       "2            POINT (-122.398673 37.71694)            0    13  \n",
       "3            POINT (-122.398673 37.71694)            6     3  \n",
       "4            POINT (-122.398673 37.71694)            5    12  \n",
       "...                                   ...          ...   ...  \n",
       "477881  POINT (-122.39963625 37.72721219)            0    11  \n",
       "477882  POINT (-122.39963625 37.72721219)            4    20  \n",
       "477883  POINT (-122.39963625 37.72721219)            3    16  \n",
       "477884  POINT (-122.39963625 37.72721219)            0    20  \n",
       "477885       POINT (-122.44876 37.756902)            2     2  \n",
       "\n",
       "[477886 rows x 25 columns]"
      ]
     },
     "execution_count": 5,
     "metadata": {},
     "output_type": "execute_result"
    }
   ],
   "source": [
    "df"
   ]
  },
  {
   "cell_type": "code",
   "execution_count": 6,
   "id": "4df7f177-ef0f-442c-a017-9170869d99b8",
   "metadata": {},
   "outputs": [
    {
     "data": {
      "text/plain": [
       "array([ 5.,  1.,  9.,  8.,  6.,  3.,  2.,  4., 13., 12., 11.,  7.,  0.,\n",
       "       10.])"
      ]
     },
     "execution_count": 6,
     "metadata": {},
     "output_type": "execute_result"
    }
   ],
   "source": [
    "df[\"highway\"].unique()"
   ]
  },
  {
   "cell_type": "markdown",
   "id": "19bdd1f9-2863-45d0-89e3-fa9cd88b4455",
   "metadata": {},
   "source": [
    "# Preparing data to ML predictions"
   ]
  },
  {
   "cell_type": "markdown",
   "id": "2af6405e-c897-4bd6-af5e-f923c0fd840a",
   "metadata": {},
   "source": [
    "## Creating list of possible permutations using highway (road_type), day_of_week and hour"
   ]
  },
  {
   "cell_type": "code",
   "execution_count": 7,
   "id": "e9803429-d956-412e-abda-aa7215e3eaf0",
   "metadata": {},
   "outputs": [
    {
     "data": {
      "text/plain": [
       "2352"
      ]
     },
     "execution_count": 7,
     "metadata": {},
     "output_type": "execute_result"
    }
   ],
   "source": [
    "import itertools\n",
    "a = df[\"highway\"].unique().tolist()\n",
    "b = df[\"day_of_week\"].unique().tolist()\n",
    "c = df[\"hour\"].unique().tolist()\n",
    "s=[a, b, c]\n",
    "s = list(itertools.product(*s))\n",
    "len(s)"
   ]
  },
  {
   "cell_type": "markdown",
   "id": "e5d8bc06-5567-4c21-bae4-6164d5439cfb",
   "metadata": {},
   "source": [
    "## Calculating target for each permutation \n",
    "### target = (incidents count in particular highway (road_type), day_of_week and hour) / (incidents count)"
   ]
  },
  {
   "cell_type": "code",
   "execution_count": 8,
   "id": "1d9c8e36-618c-489f-a604-cf7f110d81f2",
   "metadata": {},
   "outputs": [],
   "source": [
    "target = []\n",
    "for i in range(len(s)):\n",
    "    target.append(len(df.loc[(df['highway'] == s[i][0]) & (df['day_of_week'] == s[i][1])  & (df['day_of_week'] == s[i][2])])/len(df))"
   ]
  },
  {
   "cell_type": "markdown",
   "id": "33092077-0948-400c-94af-3cfb5a47da1c",
   "metadata": {},
   "source": [
    "## Creating final data frame"
   ]
  },
  {
   "cell_type": "code",
   "execution_count": 9,
   "id": "2077532f-59be-4002-8a45-1c30dd982df6",
   "metadata": {},
   "outputs": [
    {
     "data": {
      "text/html": [
       "<div>\n",
       "<style scoped>\n",
       "    .dataframe tbody tr th:only-of-type {\n",
       "        vertical-align: middle;\n",
       "    }\n",
       "\n",
       "    .dataframe tbody tr th {\n",
       "        vertical-align: top;\n",
       "    }\n",
       "\n",
       "    .dataframe thead th {\n",
       "        text-align: right;\n",
       "    }\n",
       "</style>\n",
       "<table border=\"1\" class=\"dataframe\">\n",
       "  <thead>\n",
       "    <tr style=\"text-align: right;\">\n",
       "      <th></th>\n",
       "      <th>road_type</th>\n",
       "      <th>day_of_week</th>\n",
       "      <th>hour</th>\n",
       "      <th>target</th>\n",
       "    </tr>\n",
       "  </thead>\n",
       "  <tbody>\n",
       "    <tr>\n",
       "      <th>0</th>\n",
       "      <td>5.0</td>\n",
       "      <td>6</td>\n",
       "      <td>18</td>\n",
       "      <td>0.000000</td>\n",
       "    </tr>\n",
       "    <tr>\n",
       "      <th>1</th>\n",
       "      <td>5.0</td>\n",
       "      <td>6</td>\n",
       "      <td>6</td>\n",
       "      <td>0.025747</td>\n",
       "    </tr>\n",
       "    <tr>\n",
       "      <th>2</th>\n",
       "      <td>5.0</td>\n",
       "      <td>6</td>\n",
       "      <td>13</td>\n",
       "      <td>0.000000</td>\n",
       "    </tr>\n",
       "    <tr>\n",
       "      <th>3</th>\n",
       "      <td>5.0</td>\n",
       "      <td>6</td>\n",
       "      <td>3</td>\n",
       "      <td>0.000000</td>\n",
       "    </tr>\n",
       "    <tr>\n",
       "      <th>4</th>\n",
       "      <td>5.0</td>\n",
       "      <td>6</td>\n",
       "      <td>12</td>\n",
       "      <td>0.000000</td>\n",
       "    </tr>\n",
       "    <tr>\n",
       "      <th>...</th>\n",
       "      <td>...</td>\n",
       "      <td>...</td>\n",
       "      <td>...</td>\n",
       "      <td>...</td>\n",
       "    </tr>\n",
       "    <tr>\n",
       "      <th>2347</th>\n",
       "      <td>10.0</td>\n",
       "      <td>1</td>\n",
       "      <td>23</td>\n",
       "      <td>0.000000</td>\n",
       "    </tr>\n",
       "    <tr>\n",
       "      <th>2348</th>\n",
       "      <td>10.0</td>\n",
       "      <td>1</td>\n",
       "      <td>22</td>\n",
       "      <td>0.000000</td>\n",
       "    </tr>\n",
       "    <tr>\n",
       "      <th>2349</th>\n",
       "      <td>10.0</td>\n",
       "      <td>1</td>\n",
       "      <td>19</td>\n",
       "      <td>0.000000</td>\n",
       "    </tr>\n",
       "    <tr>\n",
       "      <th>2350</th>\n",
       "      <td>10.0</td>\n",
       "      <td>1</td>\n",
       "      <td>16</td>\n",
       "      <td>0.000000</td>\n",
       "    </tr>\n",
       "    <tr>\n",
       "      <th>2351</th>\n",
       "      <td>10.0</td>\n",
       "      <td>1</td>\n",
       "      <td>5</td>\n",
       "      <td>0.000000</td>\n",
       "    </tr>\n",
       "  </tbody>\n",
       "</table>\n",
       "<p>2352 rows × 4 columns</p>\n",
       "</div>"
      ],
      "text/plain": [
       "      road_type  day_of_week  hour    target\n",
       "0           5.0            6    18  0.000000\n",
       "1           5.0            6     6  0.025747\n",
       "2           5.0            6    13  0.000000\n",
       "3           5.0            6     3  0.000000\n",
       "4           5.0            6    12  0.000000\n",
       "...         ...          ...   ...       ...\n",
       "2347       10.0            1    23  0.000000\n",
       "2348       10.0            1    22  0.000000\n",
       "2349       10.0            1    19  0.000000\n",
       "2350       10.0            1    16  0.000000\n",
       "2351       10.0            1     5  0.000000\n",
       "\n",
       "[2352 rows x 4 columns]"
      ]
     },
     "execution_count": 9,
     "metadata": {},
     "output_type": "execute_result"
    }
   ],
   "source": [
    "data_to_machine_learning = {'road_type': [i[0] for i in s], 'day_of_week': [i[1] for i in s], 'hour': [i[2] for i in s], 'target': target}\n",
    "data_to_machine_learning =  pd.DataFrame(data=data_to_machine_learning)\n",
    "data_to_machine_learning"
   ]
  },
  {
   "cell_type": "markdown",
   "id": "92b14983-aac6-425e-8a39-f7b3fba2fe01",
   "metadata": {},
   "source": [
    "# Machine learning models"
   ]
  },
  {
   "cell_type": "code",
   "execution_count": 10,
   "id": "63f68ea9-edbc-476e-b5b8-6d5584193598",
   "metadata": {},
   "outputs": [],
   "source": [
    "X = data_to_machine_learning[[\"road_type\", \"day_of_week\", \"hour\"]]\n",
    "y = data_to_machine_learning.target"
   ]
  },
  {
   "cell_type": "markdown",
   "id": "ee266cc6-869f-438c-92c6-659e591c81c7",
   "metadata": {},
   "source": [
    "## Data split"
   ]
  },
  {
   "cell_type": "code",
   "execution_count": 11,
   "id": "2e4162d7-aac6-418f-8669-1cfb7c2b5e26",
   "metadata": {},
   "outputs": [],
   "source": [
    "from sklearn.model_selection import train_test_split\n",
    "X_train, X_test, y_train, y_test = train_test_split(X, y, test_size=0.2)"
   ]
  },
  {
   "cell_type": "markdown",
   "id": "899ce039-6a40-45bb-baf3-a761eac51f3b",
   "metadata": {},
   "source": [
    "## Linear regression"
   ]
  },
  {
   "cell_type": "code",
   "execution_count": 37,
   "id": "35fe2728-a873-4d10-bca2-8107ff4b3dd5",
   "metadata": {},
   "outputs": [
    {
     "name": "stdout",
     "output_type": "stream",
     "text": [
      "7.963887329275847e-06\n",
      "-0.0003465096875019391\n"
     ]
    },
    {
     "name": "stderr",
     "output_type": "stream",
     "text": [
      "c:\\users\\rafal\\appdata\\local\\programs\\python\\python39\\lib\\site-packages\\sklearn\\base.py:450: UserWarning: X does not have valid feature names, but LinearRegression was fitted with feature names\n",
      "  warnings.warn(\n"
     ]
    },
    {
     "data": {
      "text/plain": [
       "array([0.00030086])"
      ]
     },
     "execution_count": 37,
     "metadata": {},
     "output_type": "execute_result"
    }
   ],
   "source": [
    "from sklearn.linear_model import LinearRegression\n",
    "from sklearn.metrics import mean_squared_error\n",
    "import numpy as np\n",
    "\n",
    "reg = LinearRegression().fit(X_train, y_train)\n",
    "mse = mean_squared_error(y_test, reg.predict(X_test))\n",
    "print(mse)\n",
    "print(reg.score(X_test, y_test))\n",
    "reg.predict(np.array([[8.0, 6, 15]]))"
   ]
  },
  {
   "cell_type": "code",
   "execution_count": 31,
   "id": "29e6f961-c37b-4a34-8f81-65e168d27ede",
   "metadata": {},
   "outputs": [
    {
     "data": {
      "text/plain": [
       "[<matplotlib.lines.Line2D at 0x150486dbd60>]"
      ]
     },
     "execution_count": 31,
     "metadata": {},
     "output_type": "execute_result"
    },
    {
     "data": {
      "image/png": "[encoded data removed]",
      "text/plain": [
       "<Figure size 432x288 with 1 Axes>"
      ]
     },
     "metadata": {
      "needs_background": "light"
     },
     "output_type": "display_data"
    }
   ],
   "source": [
    "import matplotlib.pyplot as plt\n",
    "plt.scatter(X_test['hour'], y_test)\n",
    "plt.plot(X_test['hour'], reg.predict(X_test), color=\"red\", linewidth=1)"
   ]
  },
  {
   "cell_type": "markdown",
   "id": "75514b40-6e9d-407b-bf77-6b264090c13b",
   "metadata": {},
   "source": [
    "## KNeighbors regressor n_neighbors=2"
   ]
  },
  {
   "cell_type": "code",
   "execution_count": 38,
   "id": "0511be80-e84d-4dcd-aea6-7c1ae07a2e5e",
   "metadata": {},
   "outputs": [
    {
     "name": "stdout",
     "output_type": "stream",
     "text": [
      "1.1611468809293238e-05\n",
      "-0.45852042042613594\n"
     ]
    },
    {
     "name": "stderr",
     "output_type": "stream",
     "text": [
      "c:\\users\\rafal\\appdata\\local\\programs\\python\\python39\\lib\\site-packages\\sklearn\\base.py:450: UserWarning: X does not have valid feature names, but KNeighborsRegressor was fitted with feature names\n",
      "  warnings.warn(\n"
     ]
    },
    {
     "data": {
      "text/plain": [
       "array([0.])"
      ]
     },
     "execution_count": 38,
     "metadata": {},
     "output_type": "execute_result"
    }
   ],
   "source": [
    "import sklearn.neighbors\n",
    "import numpy as np\n",
    "import sklearn.metrics as metrics\n",
    "knn_2_reg = sklearn.neighbors.KNeighborsRegressor(n_neighbors=2)\n",
    "knn_2_reg.fit(X_train, y_train)\n",
    "mse = mean_squared_error(y_test, knn_2_reg.predict(X_test))\n",
    "print(mse)\n",
    "print(knn_2_reg.score(X_test, y_test))\n",
    "knn_2_reg.predict(np.array([[8.0, 4, 23]]))"
   ]
  },
  {
   "cell_type": "markdown",
   "id": "8a0a60d5-7fb8-4e36-96b1-54a53ba87e55",
   "metadata": {},
   "source": [
    "## KNeighbors regressor n_neighbors=5"
   ]
  },
  {
   "cell_type": "code",
   "execution_count": 39,
   "id": "3a64967c-8000-4a2c-9b43-6b1defd278b7",
   "metadata": {},
   "outputs": [
    {
     "name": "stdout",
     "output_type": "stream",
     "text": [
      "1.1180273327496935e-05\n",
      "-0.4043578139786168\n"
     ]
    },
    {
     "name": "stderr",
     "output_type": "stream",
     "text": [
      "c:\\users\\rafal\\appdata\\local\\programs\\python\\python39\\lib\\site-packages\\sklearn\\base.py:450: UserWarning: X does not have valid feature names, but KNeighborsRegressor was fitted with feature names\n",
      "  warnings.warn(\n"
     ]
    },
    {
     "data": {
      "text/plain": [
       "array([0.])"
      ]
     },
     "execution_count": 39,
     "metadata": {},
     "output_type": "execute_result"
    }
   ],
   "source": [
    "import sklearn.neighbors\n",
    "knn_5_reg = sklearn.neighbors.KNeighborsRegressor(n_neighbors=5)\n",
    "knn_5_reg.fit(X_train, y_train)\n",
    "mse = mean_squared_error(y_test, knn_5_reg.predict(X_test))\n",
    "print(mse)\n",
    "print(knn_5_reg.score(X_test, y_test))\n",
    "knn_5_reg.predict(np.array([[8.0, 4, 23]]))"
   ]
  },
  {
   "cell_type": "markdown",
   "id": "80e05a03-4d54-4836-bc4c-e898be587ef1",
   "metadata": {},
   "source": [
    "## Polynomial Regression"
   ]
  },
  {
   "cell_type": "code",
   "execution_count": 41,
   "id": "5fa87acf-6e8c-4fa8-97ad-bff19995ef50",
   "metadata": {},
   "outputs": [
    {
     "name": "stdout",
     "output_type": "stream",
     "text": [
      "7.576435049989845e-06\n"
     ]
    },
    {
     "data": {
      "text/plain": [
       "array([-0.00060809])"
      ]
     },
     "execution_count": 41,
     "metadata": {},
     "output_type": "execute_result"
    }
   ],
   "source": [
    "from sklearn.preprocessing import PolynomialFeatures # importing a class for Polynomial Regression\n",
    "poly_2_reg = PolynomialFeatures(degree = 3) # our polynomial model is of order\n",
    "X_poly = poly_2_reg.fit_transform(X_train) # transforms the features to the polynomial form\n",
    "lin_reg_2 = LinearRegression() # creates a linear regression object\n",
    "lin_reg_2.fit(X_poly, y_train)\n",
    "\n",
    "mse = metrics.mean_squared_error(y_test, lin_reg_2.predict(poly_2_reg.fit_transform(X_test)))\n",
    "print(mse)\n",
    "lin_reg_2.predict(poly_2_reg.fit_transform(np.array([[8.0, 6, 23]])))"
   ]
  },
  {
   "cell_type": "markdown",
   "id": "709c8ff5-a010-4efe-8e23-a24f0f69b6ba",
   "metadata": {},
   "source": [
    "# We decidet to reject KNeighors regressors because the predictions are often 0\n",
    "# We think that the best option is Linear regression because predictions are almost reasonable"
   ]
  }
 ],
 "metadata": {
  "kernelspec": {
   "display_name": "Python 3 (ipykernel)",
   "language": "python",
   "name": "python3"
  },
  "language_info": {
   "codemirror_mode": {
    "name": "ipython",
    "version": 3
   },
   "file_extension": ".py",
   "mimetype": "text/x-python",
   "name": "python",
   "nbconvert_exporter": "python",
   "pygments_lexer": "ipython3",
   "version": "3.9.0"
  }
 },
 "nbformat": 4,
 "nbformat_minor": 5
}
